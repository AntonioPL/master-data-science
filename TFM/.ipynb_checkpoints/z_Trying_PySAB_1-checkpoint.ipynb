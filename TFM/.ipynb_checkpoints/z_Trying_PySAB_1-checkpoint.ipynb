{
 "cells": [
  {
   "cell_type": "code",
   "execution_count": 1,
   "metadata": {
    "collapsed": true
   },
   "outputs": [],
   "source": [
    "import pandas as pd\n",
    "import numpy as np\n",
    "import matplotlib.pyplot as plt"
   ]
  },
  {
   "cell_type": "code",
   "execution_count": 38,
   "metadata": {},
   "outputs": [],
   "source": [
    "#Esto hace que podamos exportar y mostrar en un browser:\n",
    "from bokeh.io import output_file, output_notebook, show\n",
    "from bokeh.layouts import row\n",
    "\n",
    "#Esto carga las herramientas básicas de ploteado:\n",
    "\n",
    "from bokeh.plotting import *\n",
    "plot = figure(plot_width=400, tools='pan,box_zoom')"
   ]
  },
  {
   "cell_type": "code",
   "execution_count": 37,
   "metadata": {},
   "outputs": [
    {
     "name": "stdout",
     "output_type": "stream",
     "text": [
      "Object `bokeh.plotting` not found.\n"
     ]
    }
   ],
   "source": [
    "bokeh.plotting?"
   ]
  },
  {
   "cell_type": "code",
   "execution_count": 14,
   "metadata": {},
   "outputs": [
    {
     "ename": "NameError",
     "evalue": "name 'Bar' is not defined",
     "output_type": "error",
     "traceback": [
      "\u001b[1;31m---------------------------------------------------------------------------\u001b[0m",
      "\u001b[1;31mNameError\u001b[0m                                 Traceback (most recent call last)",
      "\u001b[1;32m<ipython-input-14-a13c3f1f3156>\u001b[0m in \u001b[0;36m<module>\u001b[1;34m()\u001b[0m\n\u001b[1;32m----> 1\u001b[1;33m bar = Bar(table, values='RELEVANCIA EN EL MODELO', label='TIPO DE WARNING',\n\u001b[0m\u001b[0;32m      2\u001b[0m           title=\"Tipos de Warnings y su relevancia\", legend='top_right', plot_width=400)\n",
      "\u001b[1;31mNameError\u001b[0m: name 'Bar' is not defined"
     ]
    }
   ],
   "source": [
    "bar = Bar(table, values='RELEVANCIA EN EL MODELO', label='TIPO DE WARNING',\n",
    "          title=\"Tipos de Warnings y su relevancia\", legend='top_right', plot_width=400)"
   ]
  },
  {
   "cell_type": "code",
   "execution_count": 13,
   "metadata": {},
   "outputs": [
    {
     "ename": "NameError",
     "evalue": "name 'bar' is not defined",
     "output_type": "error",
     "traceback": [
      "\u001b[1;31m---------------------------------------------------------------------------\u001b[0m",
      "\u001b[1;31mNameError\u001b[0m                                 Traceback (most recent call last)",
      "\u001b[1;32m<ipython-input-13-0605bbea44d7>\u001b[0m in \u001b[0;36m<module>\u001b[1;34m()\u001b[0m\n\u001b[0;32m      1\u001b[0m \u001b[0moutput_file\u001b[0m\u001b[1;33m(\u001b[0m\u001b[1;34m\"stacked_bar.html\"\u001b[0m\u001b[1;33m)\u001b[0m\u001b[1;33m\u001b[0m\u001b[0m\n\u001b[1;32m----> 2\u001b[1;33m \u001b[0mshow\u001b[0m\u001b[1;33m(\u001b[0m\u001b[0mrow\u001b[0m\u001b[1;33m(\u001b[0m\u001b[0mbar\u001b[0m\u001b[1;33m)\u001b[0m\u001b[1;33m)\u001b[0m\u001b[1;33m\u001b[0m\u001b[0m\n\u001b[0m",
      "\u001b[1;31mNameError\u001b[0m: name 'bar' is not defined"
     ]
    }
   ],
   "source": [
    "output_file(\"stacked_bar.html\")\n",
    "show(row(bar))"
   ]
  },
  {
   "cell_type": "code",
   "execution_count": 8,
   "metadata": {},
   "outputs": [
    {
     "data": {
      "text/html": [
       "<div>\n",
       "<style>\n",
       "    .dataframe thead tr:only-child th {\n",
       "        text-align: right;\n",
       "    }\n",
       "\n",
       "    .dataframe thead th {\n",
       "        text-align: left;\n",
       "    }\n",
       "\n",
       "    .dataframe tbody tr th {\n",
       "        vertical-align: top;\n",
       "    }\n",
       "</style>\n",
       "<table border=\"1\" class=\"dataframe\">\n",
       "  <thead>\n",
       "    <tr style=\"text-align: right;\">\n",
       "      <th></th>\n",
       "      <th>TIPO DE WARNING</th>\n",
       "      <th>RELEVANCIA EN EL MODELO</th>\n",
       "      <th>RELEVANCIA EN  EL DISEÑO</th>\n",
       "      <th>A QUÉ AFECTA EN EL MODELO</th>\n",
       "      <th>A QUÉ AFECTA EN EL DISEÑO</th>\n",
       "    </tr>\n",
       "  </thead>\n",
       "  <tbody>\n",
       "    <tr>\n",
       "      <th>0</th>\n",
       "      <td>EL DESEMBARCO DE LA ESCALERA NO LLEGA O EXCEDE...</td>\n",
       "      <td>5</td>\n",
       "      <td>90</td>\n",
       "      <td>NO SE VE AFECTADO EL RENDIMIENTO</td>\n",
       "      <td>LA ESCALERA PUEDE ESTAR MAL DISEÑADA</td>\n",
       "    </tr>\n",
       "    <tr>\n",
       "      <th>1</th>\n",
       "      <td>EL MURO Y UNA LÍNEA DE SEPARACIÓN DE HABITACIÓ...</td>\n",
       "      <td>70</td>\n",
       "      <td>5</td>\n",
       "      <td>EL PROGRAMA INTENTA CALCULAR CONTINUAMENTE EL ...</td>\n",
       "      <td>NO SE APRECIA</td>\n",
       "    </tr>\n",
       "    <tr>\n",
       "      <th>2</th>\n",
       "      <td>EL PLANO DE REFERENCIA ESTÁ LIGERAMENTE FUERA ...</td>\n",
       "      <td>80</td>\n",
       "      <td>5</td>\n",
       "      <td>EL RENDIMIENTO SE VE MUY AFECTADO Y TODOS LOS ...</td>\n",
       "      <td>CASI INAPRECIABLE</td>\n",
       "    </tr>\n",
       "    <tr>\n",
       "      <th>3</th>\n",
       "      <td>EXISTE MÁS DE UNA HABITACIÓN EN LA MISMA REGIÓN</td>\n",
       "      <td>60</td>\n",
       "      <td>30</td>\n",
       "      <td>MAL RENDIMIENTO</td>\n",
       "      <td>SE CONTABILIZA UNA HABITACIÓN SIN ÁREA</td>\n",
       "    </tr>\n",
       "    <tr>\n",
       "      <th>4</th>\n",
       "      <td>EXISTEN INSTANCIAS IDÉNTICAS DE UN ELEMENTO QU...</td>\n",
       "      <td>70</td>\n",
       "      <td>100</td>\n",
       "      <td>AFECTA AL RENDIMIENTO DEL MODELO</td>\n",
       "      <td>SE CONTABILIZA UN MISMO ELEMENTO COMPLETO DOS ...</td>\n",
       "    </tr>\n",
       "    <tr>\n",
       "      <th>5</th>\n",
       "      <td>LA ANCHURA REAL DEL TRAMO DE LA ESCALERA ES ME...</td>\n",
       "      <td>5</td>\n",
       "      <td>90</td>\n",
       "      <td>NO SE VE AFECTADO EL RENDIMIENTO</td>\n",
       "      <td>LA ESCALERA PUEDE ESTAR MAL DISEÑADA</td>\n",
       "    </tr>\n",
       "    <tr>\n",
       "      <th>6</th>\n",
       "      <td>LA APERTURA RECTANGULAR NO CORTA SU HUESPED</td>\n",
       "      <td>40</td>\n",
       "      <td>0</td>\n",
       "      <td>EL SOFTWARE INTENTA CONTINUEAMENTE CALCULAR LA...</td>\n",
       "      <td>NO SE APRECIA</td>\n",
       "    </tr>\n",
       "    <tr>\n",
       "      <th>7</th>\n",
       "      <td>LA LÍNEA DE BOCETO ESTÁ LIGERAMENTE FUERA DE EJE</td>\n",
       "      <td>40</td>\n",
       "      <td>5</td>\n",
       "      <td>EL RENDIMIENTO SE VE AFECTADO</td>\n",
       "      <td>CASI INAPRECIABLE</td>\n",
       "    </tr>\n",
       "    <tr>\n",
       "      <th>8</th>\n",
       "      <td>LA REJILLA ESTÁ LIGERAMENTE FUERA DE EJE</td>\n",
       "      <td>90</td>\n",
       "      <td>10</td>\n",
       "      <td>EL RENDIMIENTO SE VE MUY AFECTADO Y TODOS LOS ...</td>\n",
       "      <td>CASI INAPRECIABLE</td>\n",
       "    </tr>\n",
       "    <tr>\n",
       "      <th>9</th>\n",
       "      <td>LOS ELEMENTOS NO SE UNIERON AUTOMÁTICAMENTE PO...</td>\n",
       "      <td>10</td>\n",
       "      <td>80</td>\n",
       "      <td>UNIONES</td>\n",
       "      <td>UNA UNIÓN NO QUEDA COMO DEBERÍA</td>\n",
       "    </tr>\n",
       "    <tr>\n",
       "      <th>10</th>\n",
       "      <td>LOS ELEMENTOS SE SOLAPAN ENTRE SÍ</td>\n",
       "      <td>70</td>\n",
       "      <td>100</td>\n",
       "      <td>AFECTA AL RENDIMIENTO DEL MODELO</td>\n",
       "      <td>SE CONTABILIZAN CANTIDADES DOS VECES</td>\n",
       "    </tr>\n",
       "    <tr>\n",
       "      <th>11</th>\n",
       "      <td>LOS ELEMENTOS SEÑALADOS ESTÁN UNIDOS PERO NO I...</td>\n",
       "      <td>10</td>\n",
       "      <td>80</td>\n",
       "      <td>UNIONES</td>\n",
       "      <td>UNA UNIÓN NO QUEDA COMO DEBERÍA</td>\n",
       "    </tr>\n",
       "    <tr>\n",
       "      <th>12</th>\n",
       "      <td>LOS MUROS ESTÁN UNIDOS CON UN ELEMENTO PERO SE...</td>\n",
       "      <td>10</td>\n",
       "      <td>80</td>\n",
       "      <td>UNIONES</td>\n",
       "      <td>UNA UNIÓN NO QUEDA COMO DEBERÍA</td>\n",
       "    </tr>\n",
       "  </tbody>\n",
       "</table>\n",
       "</div>"
      ],
      "text/plain": [
       "                                      TIPO DE WARNING  \\\n",
       "0   EL DESEMBARCO DE LA ESCALERA NO LLEGA O EXCEDE...   \n",
       "1   EL MURO Y UNA LÍNEA DE SEPARACIÓN DE HABITACIÓ...   \n",
       "2   EL PLANO DE REFERENCIA ESTÁ LIGERAMENTE FUERA ...   \n",
       "3     EXISTE MÁS DE UNA HABITACIÓN EN LA MISMA REGIÓN   \n",
       "4   EXISTEN INSTANCIAS IDÉNTICAS DE UN ELEMENTO QU...   \n",
       "5   LA ANCHURA REAL DEL TRAMO DE LA ESCALERA ES ME...   \n",
       "6         LA APERTURA RECTANGULAR NO CORTA SU HUESPED   \n",
       "7    LA LÍNEA DE BOCETO ESTÁ LIGERAMENTE FUERA DE EJE   \n",
       "8            LA REJILLA ESTÁ LIGERAMENTE FUERA DE EJE   \n",
       "9   LOS ELEMENTOS NO SE UNIERON AUTOMÁTICAMENTE PO...   \n",
       "10                  LOS ELEMENTOS SE SOLAPAN ENTRE SÍ   \n",
       "11  LOS ELEMENTOS SEÑALADOS ESTÁN UNIDOS PERO NO I...   \n",
       "12  LOS MUROS ESTÁN UNIDOS CON UN ELEMENTO PERO SE...   \n",
       "\n",
       "    RELEVANCIA EN EL MODELO  RELEVANCIA EN  EL DISEÑO  \\\n",
       "0                         5                        90   \n",
       "1                        70                         5   \n",
       "2                        80                         5   \n",
       "3                        60                        30   \n",
       "4                        70                       100   \n",
       "5                         5                        90   \n",
       "6                        40                         0   \n",
       "7                        40                         5   \n",
       "8                        90                        10   \n",
       "9                        10                        80   \n",
       "10                       70                       100   \n",
       "11                       10                        80   \n",
       "12                       10                        80   \n",
       "\n",
       "                            A QUÉ AFECTA EN EL MODELO  \\\n",
       "0                    NO SE VE AFECTADO EL RENDIMIENTO   \n",
       "1   EL PROGRAMA INTENTA CALCULAR CONTINUAMENTE EL ...   \n",
       "2   EL RENDIMIENTO SE VE MUY AFECTADO Y TODOS LOS ...   \n",
       "3                                     MAL RENDIMIENTO   \n",
       "4                    AFECTA AL RENDIMIENTO DEL MODELO   \n",
       "5                    NO SE VE AFECTADO EL RENDIMIENTO   \n",
       "6   EL SOFTWARE INTENTA CONTINUEAMENTE CALCULAR LA...   \n",
       "7                       EL RENDIMIENTO SE VE AFECTADO   \n",
       "8   EL RENDIMIENTO SE VE MUY AFECTADO Y TODOS LOS ...   \n",
       "9                                             UNIONES   \n",
       "10                   AFECTA AL RENDIMIENTO DEL MODELO   \n",
       "11                                            UNIONES   \n",
       "12                                            UNIONES   \n",
       "\n",
       "                            A QUÉ AFECTA EN EL DISEÑO  \n",
       "0                LA ESCALERA PUEDE ESTAR MAL DISEÑADA  \n",
       "1                                       NO SE APRECIA  \n",
       "2                                   CASI INAPRECIABLE  \n",
       "3              SE CONTABILIZA UNA HABITACIÓN SIN ÁREA  \n",
       "4   SE CONTABILIZA UN MISMO ELEMENTO COMPLETO DOS ...  \n",
       "5                LA ESCALERA PUEDE ESTAR MAL DISEÑADA  \n",
       "6                                       NO SE APRECIA  \n",
       "7                                   CASI INAPRECIABLE  \n",
       "8                                   CASI INAPRECIABLE  \n",
       "9                     UNA UNIÓN NO QUEDA COMO DEBERÍA  \n",
       "10               SE CONTABILIZAN CANTIDADES DOS VECES  \n",
       "11                    UNA UNIÓN NO QUEDA COMO DEBERÍA  \n",
       "12                    UNA UNIÓN NO QUEDA COMO DEBERÍA  "
      ]
     },
     "execution_count": 8,
     "metadata": {},
     "output_type": "execute_result"
    }
   ],
   "source": [
    "file = '.\\warnings_csv.csv'\n",
    "table = pd.read_csv(file)\n",
    "table"
   ]
  },
  {
   "cell_type": "code",
   "execution_count": null,
   "metadata": {
    "collapsed": true
   },
   "outputs": [],
   "source": []
  }
 ],
 "metadata": {
  "kernelspec": {
   "display_name": "Python 3",
   "language": "python",
   "name": "python3"
  },
  "language_info": {
   "codemirror_mode": {
    "name": "ipython",
    "version": 3
   },
   "file_extension": ".py",
   "mimetype": "text/x-python",
   "name": "python",
   "nbconvert_exporter": "python",
   "pygments_lexer": "ipython3",
   "version": "3.6.3"
  }
 },
 "nbformat": 4,
 "nbformat_minor": 2
}
